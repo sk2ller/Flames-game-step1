{
  "nbformat": 4,
  "nbformat_minor": 0,
  "metadata": {
    "colab": {
      "name": "step 1 (flames game).ipynb",
      "provenance": [],
      "collapsed_sections": []
    },
    "kernelspec": {
      "name": "python3",
      "display_name": "Python 3"
    },
    "language_info": {
      "name": "python"
    }
  },
  "cells": [
    {
      "cell_type": "code",
      "metadata": {
        "id": "Xu6LpGQHeCo_"
      },
      "source": [
        "## function for removing common characters\n",
        "# with their respective occurrences\n",
        "def remove_match_char(list1, list2):\n",
        " \n",
        "    for i in range(len(list1)) :\n",
        "        for j in range(len(list2)) :\n",
        " \n",
        "            # if common character is found\n",
        "            # then remove that character\n",
        "            # and return list of concatenated\n",
        "            # list with True Flag\n",
        "            if list1[i] == list2[j] :\n",
        "                c = list1[i]\n",
        " \n",
        "                # remove character from the list\n",
        "                list1.remove(c)\n",
        "                list2.remove(c)\n",
        " \n",
        "                # concatenation of two list elements with *\n",
        "                # * is act as border mark here\n",
        "                list3 = list1 + [\"*\"] + list2\n",
        " \n",
        "                # return the concatenated list with True flag\n",
        "                return [list3, True]\n",
        " \n",
        "    # no common characters is found\n",
        "    # return the concatenated list with False flag\n",
        "    list3 = list1 + [\"*\"] + list2\n",
        "    return [list3, False]"
      ],
      "execution_count": 1,
      "outputs": []
    }
  ]
}